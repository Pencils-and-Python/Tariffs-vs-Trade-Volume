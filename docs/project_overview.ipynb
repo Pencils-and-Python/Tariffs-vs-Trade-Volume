{
 "cells": [
  {
   "metadata": {},
   "cell_type": "markdown",
   "source": [
    "# Tariffs and Trade Volume: A Gentle Tug-of-War\n",
    "\n",
    "## 🧭 Introduction\n",
    "Trade tariffs sound like political firestorms, but behind the scenes, they leave a clear data trail.\n",
    "This post skips the politics and dives straight into the numbers: what happens to trade volume when tariffs rise?\n",
    "\n",
    "We’ll look at the U.S. and China (because they make the data easy to grab), but the story applies globally.\n",
    "\n",
    "## 📦 The Dataset\n",
    "For this analysis, we’ll use:\n",
    "- **Monthly U.S. import/export data** from the U.S. Census Bureau or FRED.\n",
    "- **Tariff rate estimates or policy change events** from public sources (like the Peterson Institute, USTR reports, or predefined change dates like 2018–2020).\n",
    "\n",
    "We'll structure the data to align **tariff changes** with **trade volume shifts** over time.\n",
    "\n",
    "## 🧮 A Quick Look at the Math\n",
    "We'll use:\n",
    "- Time-series visualization (`matplotlib`, `seaborn`)\n",
    "- Smoothing techniques like rolling averages\n",
    "- **Correlation** (and optionally **lag correlation**) between tariff events and volume drops\n",
    "- Basic **OLS regression** (using `statsmodels`) to quantify relationships\n",
    "\n",
    "No machine learning today. Just clean, interpretable stats.\n",
    "\n",
    "## 📊 Visuals and Findings\n",
    "1. **Trade Volume vs Time** — Highlight key tariff events.\n",
    "2. **Imports/Exports Before and After Tariff Dates**\n",
    "3. **Regression Results** — Are tariffs really the culprit?\n",
    "\n",
    "We’ll include code snippets, graphs, and maybe a few \"aha!\" moments.\n",
    "\n",
    "## 🤔 Interpretation\n",
    "Here we discuss:\n",
    "- The strength (or weakness) of the relationship\n",
    "- Other factors that might influence trade (supply chain shocks, currency fluctuations, etc.)\n",
    "- The difference between **causation vs correlation** (brief but important)\n",
    "\n",
    "## 🧵 TL;DR Summary\n",
    "A brief bullet list of findings for the skimmers and the busy folks:\n",
    "- Trade dips often **align** with tariff spikes\n",
    "- Magnitude varies by sector\n",
    "- But… correlation isn’t causation\n",
    "\n",
    "## 🧠 Takeaway for Fintech/Data Nerds\n",
    "This is a great example of using:\n",
    "- Time-series data for **economic analysis**\n",
    "- Simple regression for quick insight\n",
    "- Data storytelling that doesn’t need a neural net\n",
    "\n",
    "## 🔗 Sources and References\n",
    "- [FRED Economic Data](https://fred.stlouisfed.org/)\n",
    "- [U.S. Census Bureau Trade Data](https://www.census.gov/foreign-trade/index.html)\n",
    "- [Tariff Timeline - Peterson Institute](https://www.piie.com/research/trade-conflict-timeline)\n",
    "\n"
   ],
   "id": "3dc4908235871846"
  },
  {
   "metadata": {},
   "cell_type": "code",
   "outputs": [],
   "execution_count": null,
   "source": "",
   "id": "736eb5cc78f7906d"
  }
 ],
 "metadata": {
  "kernelspec": {
   "display_name": "Python 3",
   "language": "python",
   "name": "python3"
  },
  "language_info": {
   "codemirror_mode": {
    "name": "ipython",
    "version": 2
   },
   "file_extension": ".py",
   "mimetype": "text/x-python",
   "name": "python",
   "nbconvert_exporter": "python",
   "pygments_lexer": "ipython2",
   "version": "2.7.6"
  }
 },
 "nbformat": 4,
 "nbformat_minor": 5
}
