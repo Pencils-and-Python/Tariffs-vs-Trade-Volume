{
 "cells": [
  {
   "metadata": {},
   "cell_type": "markdown",
   "source": [
    "## 🧪 Step 1: Define Data Needs\n",
    "We’ll need two core datasets:\n",
    "\n",
    "🔹 1. Trade Volume Data (monthly)\n",
    "Source: U.S. Census Bureau or FRED (Federal Reserve)\n",
    "\n",
    "Fields: Date, Imports (Total), Exports (Total), possibly by country (e.g., China)\n",
    "\n",
    "🔹 2. Tariff Timeline (events or rates)\n",
    "Source: Public datasets or build your own timeline\n",
    "\n",
    "Fields: Date, Event Description, Tariff Change (%)\n",
    "\n",
    "## 🔍 Step 2: Data Research and Access Strategy\n",
    "🗂️ A. Trade Volume Data\n",
    "Let’s use FRED via pandas_datareader:\n",
    "\n",
    "Imports: IR14270\n",
    "\n",
    "Exports: IR14235\n",
    "\n",
    "Or you can pull more detailed datasets from [FRED](https://fred.stlouisfed.org/) or the [Census trade portal](https://usatrade.census.gov/)\n"
   ],
   "id": "d3febf2dfa17a492"
  },
  {
   "metadata": {},
   "cell_type": "markdown",
   "source": [
    "We will install panda-datareader:\n",
    "```bash\n",
    "conda install -c conda-forge pandas-datareader\n",
    "```\n"
   ],
   "id": "a4f1fbe7212ba44d"
  },
  {
   "metadata": {},
   "cell_type": "markdown",
   "source": [
    "📄 B. Tariff Timeline Data\n",
    "The best ready-made timeline source:\n",
    "🔗 [Peterson Institute Tariff Timeline](https://www.piie.com/research/piie-charts/2019/us-china-trade-war-tariffs-date-chart)\n",
    "\n",
    "You can manually extract key dates + descriptions into a small DataFrame (we’ll mock one up to start — it's a light lift and very doable).\n",
    "\n",
    "📓 Notebook Layout Plan\n",
    "Here’s what the notebook’s structure will look like:"
   ],
   "id": "5a6c9833013e402e"
  },
  {
   "metadata": {},
   "cell_type": "markdown",
   "source": [
    "Sections:\n",
    "- Imports & Setup\n",
    "- Trade Volume Data Collection (FRED)\n",
    "- Tariff Timeline Construction (Manual / Scraped)\n",
    "- Cleaning & Aligning Data\n",
    "- EDA & Visualizations\n",
    "- OLS Regression (Optional)\n",
    "- Conclusions and Takeaways\n",
    "- Export Clean Data or Charts"
   ],
   "id": "a859d6f707447c8b"
  },
  {
   "metadata": {},
   "cell_type": "code",
   "outputs": [],
   "execution_count": null,
   "source": "",
   "id": "f4452b7f8324ff67"
  }
 ],
 "metadata": {
  "kernelspec": {
   "display_name": "Python 3",
   "language": "python",
   "name": "python3"
  },
  "language_info": {
   "codemirror_mode": {
    "name": "ipython",
    "version": 2
   },
   "file_extension": ".py",
   "mimetype": "text/x-python",
   "name": "python",
   "nbconvert_exporter": "python",
   "pygments_lexer": "ipython2",
   "version": "2.7.6"
  }
 },
 "nbformat": 4,
 "nbformat_minor": 5
}
