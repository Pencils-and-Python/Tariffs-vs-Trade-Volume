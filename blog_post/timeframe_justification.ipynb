{
 "cells": [
  {
   "metadata": {},
   "cell_type": "markdown",
   "source": [
    "### Why This Analysis Begins in the Year 2000\n",
    "\n",
    "While tariffs and trade volume data are available for many decades prior, this analysis begins in **January 2000** for the following reasons:\n",
    "\n",
    "1. **Structural Shift in the Global Economy**\n",
    "   The early 2000s marked the beginning of a new era:\n",
    "   - The **dot-com boom and bust** changed global technology and supply chains.\n",
    "   - **China joined the WTO in 2001**, significantly reshaping international trade.\n",
    "   - The rise of digital infrastructure, automation, and global finance introduced new economic dynamics not present in earlier decades.\n",
    "\n",
    "2. **Modern Trade Dynamics**\n",
    "   Pre-2000 trade systems were governed by different structures:\n",
    "   - Tariff rates were higher and more static.\n",
    "   - Globalization had not reached its full acceleration.\n",
    "   - Key sectors today (e.g., semiconductors, software, cloud services, AI hardware) either didn’t exist or were economically minor.\n",
    "\n",
    "3. **Data Integrity and Frequency**\n",
    "   - **High-frequency, monthly data** is consistently available from FRED and U.S. Census starting around 2000.\n",
    "   - Prior decades may have less complete, less granular data — introducing sampling biases or interpolations.\n",
    "\n",
    "4. **Relevance to Contemporary Policy**\n",
    "   - Modern policy decisions (e.g., the U.S.-China trade war, COVID-related supply chain shocks, USMCA) occurred in this window.\n",
    "   - These decisions are more aligned with **current investor behavior, portfolio construction, and economic forecasting**.\n",
    "\n",
    "5. **Exclusion of Smoot-Hawley Era**\n",
    "   - While the **Smoot-Hawley Tariff Act (1930s)** and Great Depression trade wars are historically significant, the economic mechanisms of the time (gold standard, manual labor-heavy production, colonial trade systems) are not comparable to the **interconnected, tech-driven global economy of the 21st century**.\n",
    "\n",
    "As such, this timeframe aligns with both **data availability** and **economic relevance**, ensuring that the results of this analysis are defensible, modern, and applicable to today’s trade policy discourse.\n"
   ],
   "id": "d5297dbc58d285f1"
  },
  {
   "metadata": {},
   "cell_type": "code",
   "outputs": [],
   "execution_count": null,
   "source": "",
   "id": "7c5bb691cd19a879"
  }
 ],
 "metadata": {
  "kernelspec": {
   "display_name": "Python 3",
   "language": "python",
   "name": "python3"
  },
  "language_info": {
   "codemirror_mode": {
    "name": "ipython",
    "version": 2
   },
   "file_extension": ".py",
   "mimetype": "text/x-python",
   "name": "python",
   "nbconvert_exporter": "python",
   "pygments_lexer": "ipython2",
   "version": "2.7.6"
  }
 },
 "nbformat": 4,
 "nbformat_minor": 5
}
