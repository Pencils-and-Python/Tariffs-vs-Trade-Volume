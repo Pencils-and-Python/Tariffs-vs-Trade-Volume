{
 "cells": [
  {
   "cell_type": "code",
   "id": "initial_id",
   "metadata": {
    "collapsed": true,
    "ExecuteTime": {
     "end_time": "2025-04-13T19:39:42.568356Z",
     "start_time": "2025-04-13T19:39:41.483031Z"
    }
   },
   "source": [
    "# 1. Imports & Setup\n",
    "from src.data.scrape_peterson_tariffs import scrape_peterson_tariff_timeline\n",
    "import pandas as pd\n",
    "import numpy as np\n",
    "import matplotlib.pyplot as plt\n",
    "import pandas_datareader.data as web\n",
    "from datetime import datetime\n",
    "import os\n",
    "from dotenv import load_dotenv\n",
    "\n",
    "load_dotenv()\n",
    "fred_key = os.getenv('FRED_API_KEY')\n",
    "\n",
    "if fred_key:\n",
    "    print(\"fred key has been read\")\n",
    "else:\n",
    "    print(\"Error, cannot read fred key\")\n",
    "\n",
    "# plt.style.use('seaborn-darkgrid')\n",
    "# %matplotlib inline\n",
    "\n",
    "# Set time range\n",
    "start = datetime(2016, 1, 1)\n",
    "end = datetime(2025, 4, 10)\n"
   ],
   "outputs": [
    {
     "name": "stdout",
     "output_type": "stream",
     "text": [
      "fred key has been read\n"
     ]
    }
   ],
   "execution_count": 3
  },
  {
   "metadata": {
    "ExecuteTime": {
     "end_time": "2025-04-13T19:39:42.635945Z",
     "start_time": "2025-04-13T19:39:42.621521Z"
    }
   },
   "cell_type": "code",
   "source": [
    "# Resulted in a data error.  API was not providing information intended.  May use later, so commenting this cell out for documentation\n",
    "\n",
    "\"\"\"\n",
    "# Get trade data\n",
    "exports = web.DataReader('IR14235', 'fred', start, end, api_key=fred_key)\n",
    "imports = web.DataReader('IR14270', 'fred', start, end, api_key=fred_key)\n",
    "\n",
    "# Combine into a DataFrame\n",
    "trade_data = pd.concat([exports, imports], axis=1)\n",
    "trade_data.columns = ['Exports', 'Imports']\n",
    "trade_data.dropna(inplace=True)\n",
    "\n",
    "trade_data.head()\n",
    "\"\"\""
   ],
   "id": "8a223da5f5e4b324",
   "outputs": [
    {
     "data": {
      "text/plain": [
       "\"\\n# Get trade data\\nexports = web.DataReader('IR14235', 'fred', start, end, api_key=fred_key)\\nimports = web.DataReader('IR14270', 'fred', start, end, api_key=fred_key)\\n\\n# Combine into a DataFrame\\ntrade_data = pd.concat([exports, imports], axis=1)\\ntrade_data.columns = ['Exports', 'Imports']\\ntrade_data.dropna(inplace=True)\\n\\ntrade_data.head()\\n\""
      ]
     },
     "execution_count": 4,
     "metadata": {},
     "output_type": "execute_result"
    }
   ],
   "execution_count": 4
  },
  {
   "metadata": {
    "ExecuteTime": {
     "end_time": "2025-04-13T19:39:43.025731Z",
     "start_time": "2025-04-13T19:39:42.686224Z"
    }
   },
   "cell_type": "code",
   "source": [
    "# Call scrape peterson function\n",
    "tariff_events = scrape_peterson_tariff_timeline()\n",
    "tariff_events.head(10)"
   ],
   "id": "7dc9d84df8b359e9",
   "outputs": [
    {
     "ename": "NoSuchDriverException",
     "evalue": "Message: Unable to obtain driver for chrome; For documentation on this error, please visit: https://www.selenium.dev/documentation/webdriver/troubleshooting/errors/driver_location\n",
     "output_type": "error",
     "traceback": [
      "\u001B[31m---------------------------------------------------------------------------\u001B[39m",
      "\u001B[31mWebDriverException\u001B[39m                        Traceback (most recent call last)",
      "\u001B[36mFile \u001B[39m\u001B[32m~/miniconda3/envs/tariffs_vs_trade_volume/lib/python3.12/site-packages/selenium/webdriver/common/driver_finder.py:67\u001B[39m, in \u001B[36mDriverFinder._binary_paths\u001B[39m\u001B[34m(self)\u001B[39m\n\u001B[32m     66\u001B[39m \u001B[38;5;28;01melse\u001B[39;00m:\n\u001B[32m---> \u001B[39m\u001B[32m67\u001B[39m     output = \u001B[43mSeleniumManager\u001B[49m\u001B[43m(\u001B[49m\u001B[43m)\u001B[49m\u001B[43m.\u001B[49m\u001B[43mbinary_paths\u001B[49m\u001B[43m(\u001B[49m\u001B[38;5;28;43mself\u001B[39;49m\u001B[43m.\u001B[49m\u001B[43m_to_args\u001B[49m\u001B[43m(\u001B[49m\u001B[43m)\u001B[49m\u001B[43m)\u001B[49m\n\u001B[32m     68\u001B[39m     \u001B[38;5;28;01mif\u001B[39;00m Path(output[\u001B[33m\"\u001B[39m\u001B[33mdriver_path\u001B[39m\u001B[33m\"\u001B[39m]).is_file():\n",
      "\u001B[36mFile \u001B[39m\u001B[32m~/miniconda3/envs/tariffs_vs_trade_volume/lib/python3.12/site-packages/selenium/webdriver/common/selenium_manager.py:47\u001B[39m, in \u001B[36mSeleniumManager.binary_paths\u001B[39m\u001B[34m(self, args)\u001B[39m\n\u001B[32m     40\u001B[39m \u001B[38;5;250m\u001B[39m\u001B[33;03m\"\"\"Determines the locations of the requested assets.\u001B[39;00m\n\u001B[32m     41\u001B[39m \n\u001B[32m     42\u001B[39m \u001B[33;03m:Args:\u001B[39;00m\n\u001B[32m     43\u001B[39m \u001B[33;03m - args: the commands to send to the selenium manager binary.\u001B[39;00m\n\u001B[32m     44\u001B[39m \u001B[33;03m:Returns: dictionary of assets and their path\u001B[39;00m\n\u001B[32m     45\u001B[39m \u001B[33;03m\"\"\"\u001B[39;00m\n\u001B[32m---> \u001B[39m\u001B[32m47\u001B[39m args = [\u001B[38;5;28mstr\u001B[39m(\u001B[38;5;28;43mself\u001B[39;49m\u001B[43m.\u001B[49m\u001B[43m_get_binary\u001B[49m\u001B[43m(\u001B[49m\u001B[43m)\u001B[49m)] + args\n\u001B[32m     48\u001B[39m \u001B[38;5;28;01mif\u001B[39;00m logger.getEffectiveLevel() == logging.DEBUG:\n",
      "\u001B[36mFile \u001B[39m\u001B[32m~/miniconda3/envs/tariffs_vs_trade_volume/lib/python3.12/site-packages/selenium/webdriver/common/selenium_manager.py:99\u001B[39m, in \u001B[36mSeleniumManager._get_binary\u001B[39m\u001B[34m()\u001B[39m\n\u001B[32m     98\u001B[39m \u001B[38;5;28;01mif\u001B[39;00m path \u001B[38;5;129;01mis\u001B[39;00m \u001B[38;5;28;01mNone\u001B[39;00m \u001B[38;5;129;01mor\u001B[39;00m \u001B[38;5;129;01mnot\u001B[39;00m path.is_file():\n\u001B[32m---> \u001B[39m\u001B[32m99\u001B[39m     \u001B[38;5;28;01mraise\u001B[39;00m WebDriverException(\u001B[33mf\u001B[39m\u001B[33m\"\u001B[39m\u001B[33mUnable to obtain working Selenium Manager binary; \u001B[39m\u001B[38;5;132;01m{\u001B[39;00mpath\u001B[38;5;132;01m}\u001B[39;00m\u001B[33m\"\u001B[39m)\n\u001B[32m    101\u001B[39m logger.debug(\u001B[33m\"\u001B[39m\u001B[33mSelenium Manager binary found at: \u001B[39m\u001B[38;5;132;01m%s\u001B[39;00m\u001B[33m\"\u001B[39m, path)\n",
      "\u001B[31mWebDriverException\u001B[39m: Message: Unable to obtain working Selenium Manager binary; /home/brice-nelson/miniconda3/envs/tariffs_vs_trade_volume/lib/python3.12/site-packages/selenium/webdriver/common/linux/selenium-manager\n",
      "\nThe above exception was the direct cause of the following exception:\n",
      "\u001B[31mNoSuchDriverException\u001B[39m                     Traceback (most recent call last)",
      "\u001B[36mCell\u001B[39m\u001B[36m \u001B[39m\u001B[32mIn[5]\u001B[39m\u001B[32m, line 2\u001B[39m\n\u001B[32m      1\u001B[39m \u001B[38;5;66;03m# Call scrape peterson function\u001B[39;00m\n\u001B[32m----> \u001B[39m\u001B[32m2\u001B[39m tariff_events = \u001B[43mscrape_peterson_tariff_timeline\u001B[49m\u001B[43m(\u001B[49m\u001B[43m)\u001B[49m\n\u001B[32m      3\u001B[39m tariff_events.head(\u001B[32m10\u001B[39m)\n",
      "\u001B[36mFile \u001B[39m\u001B[32m~/Documents/computerScience/medium_posts/pencils_and_python/tariffs_vs_trade_volume/src/data/scrape_peterson_tariffs.py:23\u001B[39m, in \u001B[36mscrape_peterson_tariff_timeline\u001B[39m\u001B[34m()\u001B[39m\n\u001B[32m     20\u001B[39m options.add_argument(\u001B[33m\"\u001B[39m\u001B[33m--log-level=3\u001B[39m\u001B[33m\"\u001B[39m)  \u001B[38;5;66;03m# Suppress logging output\u001B[39;00m\n\u001B[32m     22\u001B[39m \u001B[38;5;66;03m# 2. Launch headless Chrome (chromedriver is installed via Conda)\u001B[39;00m\n\u001B[32m---> \u001B[39m\u001B[32m23\u001B[39m driver = \u001B[43mwebdriver\u001B[49m\u001B[43m.\u001B[49m\u001B[43mChrome\u001B[49m\u001B[43m(\u001B[49m\u001B[43moptions\u001B[49m\u001B[43m=\u001B[49m\u001B[43moptions\u001B[49m\u001B[43m)\u001B[49m\n\u001B[32m     25\u001B[39m \u001B[38;5;66;03m# 3. Navigate to the target URL\u001B[39;00m\n\u001B[32m     26\u001B[39m url = \u001B[33m\"\u001B[39m\u001B[33mhttps://www.piie.com/research/trade-conflict-timeline\u001B[39m\u001B[33m\"\u001B[39m\n",
      "\u001B[36mFile \u001B[39m\u001B[32m~/miniconda3/envs/tariffs_vs_trade_volume/lib/python3.12/site-packages/selenium/webdriver/chrome/webdriver.py:45\u001B[39m, in \u001B[36mWebDriver.__init__\u001B[39m\u001B[34m(self, options, service, keep_alive)\u001B[39m\n\u001B[32m     42\u001B[39m service = service \u001B[38;5;28;01mif\u001B[39;00m service \u001B[38;5;28;01melse\u001B[39;00m Service()\n\u001B[32m     43\u001B[39m options = options \u001B[38;5;28;01mif\u001B[39;00m options \u001B[38;5;28;01melse\u001B[39;00m Options()\n\u001B[32m---> \u001B[39m\u001B[32m45\u001B[39m \u001B[38;5;28;43msuper\u001B[39;49m\u001B[43m(\u001B[49m\u001B[43m)\u001B[49m\u001B[43m.\u001B[49m\u001B[34;43m__init__\u001B[39;49m\u001B[43m(\u001B[49m\n\u001B[32m     46\u001B[39m \u001B[43m    \u001B[49m\u001B[43mbrowser_name\u001B[49m\u001B[43m=\u001B[49m\u001B[43mDesiredCapabilities\u001B[49m\u001B[43m.\u001B[49m\u001B[43mCHROME\u001B[49m\u001B[43m[\u001B[49m\u001B[33;43m\"\u001B[39;49m\u001B[33;43mbrowserName\u001B[39;49m\u001B[33;43m\"\u001B[39;49m\u001B[43m]\u001B[49m\u001B[43m,\u001B[49m\n\u001B[32m     47\u001B[39m \u001B[43m    \u001B[49m\u001B[43mvendor_prefix\u001B[49m\u001B[43m=\u001B[49m\u001B[33;43m\"\u001B[39;49m\u001B[33;43mgoog\u001B[39;49m\u001B[33;43m\"\u001B[39;49m\u001B[43m,\u001B[49m\n\u001B[32m     48\u001B[39m \u001B[43m    \u001B[49m\u001B[43moptions\u001B[49m\u001B[43m=\u001B[49m\u001B[43moptions\u001B[49m\u001B[43m,\u001B[49m\n\u001B[32m     49\u001B[39m \u001B[43m    \u001B[49m\u001B[43mservice\u001B[49m\u001B[43m=\u001B[49m\u001B[43mservice\u001B[49m\u001B[43m,\u001B[49m\n\u001B[32m     50\u001B[39m \u001B[43m    \u001B[49m\u001B[43mkeep_alive\u001B[49m\u001B[43m=\u001B[49m\u001B[43mkeep_alive\u001B[49m\u001B[43m,\u001B[49m\n\u001B[32m     51\u001B[39m \u001B[43m\u001B[49m\u001B[43m)\u001B[49m\n",
      "\u001B[36mFile \u001B[39m\u001B[32m~/miniconda3/envs/tariffs_vs_trade_volume/lib/python3.12/site-packages/selenium/webdriver/chromium/webdriver.py:50\u001B[39m, in \u001B[36mChromiumDriver.__init__\u001B[39m\u001B[34m(self, browser_name, vendor_prefix, options, service, keep_alive)\u001B[39m\n\u001B[32m     47\u001B[39m \u001B[38;5;28mself\u001B[39m.service = service\n\u001B[32m     49\u001B[39m finder = DriverFinder(\u001B[38;5;28mself\u001B[39m.service, options)\n\u001B[32m---> \u001B[39m\u001B[32m50\u001B[39m \u001B[38;5;28;01mif\u001B[39;00m \u001B[43mfinder\u001B[49m\u001B[43m.\u001B[49m\u001B[43mget_browser_path\u001B[49m\u001B[43m(\u001B[49m\u001B[43m)\u001B[49m:\n\u001B[32m     51\u001B[39m     options.binary_location = finder.get_browser_path()\n\u001B[32m     52\u001B[39m     options.browser_version = \u001B[38;5;28;01mNone\u001B[39;00m\n",
      "\u001B[36mFile \u001B[39m\u001B[32m~/miniconda3/envs/tariffs_vs_trade_volume/lib/python3.12/site-packages/selenium/webdriver/common/driver_finder.py:47\u001B[39m, in \u001B[36mDriverFinder.get_browser_path\u001B[39m\u001B[34m(self)\u001B[39m\n\u001B[32m     46\u001B[39m \u001B[38;5;28;01mdef\u001B[39;00m\u001B[38;5;250m \u001B[39m\u001B[34mget_browser_path\u001B[39m(\u001B[38;5;28mself\u001B[39m) -> \u001B[38;5;28mstr\u001B[39m:\n\u001B[32m---> \u001B[39m\u001B[32m47\u001B[39m     \u001B[38;5;28;01mreturn\u001B[39;00m \u001B[38;5;28;43mself\u001B[39;49m\u001B[43m.\u001B[49m\u001B[43m_binary_paths\u001B[49m\u001B[43m(\u001B[49m\u001B[43m)\u001B[49m[\u001B[33m\"\u001B[39m\u001B[33mbrowser_path\u001B[39m\u001B[33m\"\u001B[39m]\n",
      "\u001B[36mFile \u001B[39m\u001B[32m~/miniconda3/envs/tariffs_vs_trade_volume/lib/python3.12/site-packages/selenium/webdriver/common/driver_finder.py:78\u001B[39m, in \u001B[36mDriverFinder._binary_paths\u001B[39m\u001B[34m(self)\u001B[39m\n\u001B[32m     76\u001B[39m \u001B[38;5;28;01mexcept\u001B[39;00m \u001B[38;5;167;01mException\u001B[39;00m \u001B[38;5;28;01mas\u001B[39;00m err:\n\u001B[32m     77\u001B[39m     msg = \u001B[33mf\u001B[39m\u001B[33m\"\u001B[39m\u001B[33mUnable to obtain driver for \u001B[39m\u001B[38;5;132;01m{\u001B[39;00mbrowser\u001B[38;5;132;01m}\u001B[39;00m\u001B[33m\"\u001B[39m\n\u001B[32m---> \u001B[39m\u001B[32m78\u001B[39m     \u001B[38;5;28;01mraise\u001B[39;00m NoSuchDriverException(msg) \u001B[38;5;28;01mfrom\u001B[39;00m\u001B[38;5;250m \u001B[39m\u001B[34;01merr\u001B[39;00m\n\u001B[32m     79\u001B[39m \u001B[38;5;28;01mreturn\u001B[39;00m \u001B[38;5;28mself\u001B[39m._paths\n",
      "\u001B[31mNoSuchDriverException\u001B[39m: Message: Unable to obtain driver for chrome; For documentation on this error, please visit: https://www.selenium.dev/documentation/webdriver/troubleshooting/errors/driver_location\n"
     ]
    }
   ],
   "execution_count": 5
  },
  {
   "metadata": {},
   "cell_type": "code",
   "outputs": [],
   "execution_count": null,
   "source": "\n",
   "id": "3f7fa0e518fa0e2c"
  }
 ],
 "metadata": {
  "kernelspec": {
   "display_name": "Python 3",
   "language": "python",
   "name": "python3"
  },
  "language_info": {
   "codemirror_mode": {
    "name": "ipython",
    "version": 2
   },
   "file_extension": ".py",
   "mimetype": "text/x-python",
   "name": "python",
   "nbconvert_exporter": "python",
   "pygments_lexer": "ipython2",
   "version": "2.7.6"
  }
 },
 "nbformat": 4,
 "nbformat_minor": 5
}
